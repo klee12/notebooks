{
 "cells": [
  {
   "cell_type": "markdown",
   "metadata": {},
   "source": [
    "# Imports Test\n",
    "\n",
    "This notebook imports all of the dependencies in this repo to identify any import errors. The purpose of this notebook is to provide some basic testing for development involving the Docker image.\n",
    "\n",
    "Every once in a while, check to see all these packages are used\n",
    "\n",
    "```\n",
    "find . -type f -print0 | xargs -0 grep \"import <package>\"\n",
    "```"
   ]
  },
  {
   "cell_type": "code",
   "execution_count": 1,
   "metadata": {},
   "outputs": [
    {
     "ename": "ModuleNotFoundError",
     "evalue": "No module named 'cv2'",
     "output_type": "error",
     "traceback": [
      "\u001b[1;31m---------------------------------------------------------------------------\u001b[0m",
      "\u001b[1;31mModuleNotFoundError\u001b[0m                       Traceback (most recent call last)",
      "Input \u001b[1;32mIn [1]\u001b[0m, in \u001b[0;36m<cell line: 2>\u001b[1;34m()\u001b[0m\n\u001b[0;32m      1\u001b[0m \u001b[38;5;66;03m# please keep this in alphabetical order\u001b[39;00m\n\u001b[1;32m----> 2\u001b[0m \u001b[38;5;28;01mimport\u001b[39;00m \u001b[38;5;21;01mcv2\u001b[39;00m\n\u001b[0;32m      3\u001b[0m \u001b[38;5;28;01mimport\u001b[39;00m \u001b[38;5;21;01mfiona\u001b[39;00m\n\u001b[0;32m      4\u001b[0m \u001b[38;5;28;01mimport\u001b[39;00m \u001b[38;5;21;01mgeojson\u001b[39;00m\n",
      "\u001b[1;31mModuleNotFoundError\u001b[0m: No module named 'cv2'"
     ]
    }
   ],
   "source": [
    "# please keep this in alphabetical order\n",
    "import cv2\n",
    "import fiona\n",
    "import geojson\n",
    "import geojsonio\n",
    "import geopandas\n",
    "import ipyleaflet\n",
    "import ipywidgets\n",
    "import matplotlib\n",
    "import mercantile\n",
    "import numpy\n",
    "from osgeo import gdal, osr\n",
    "import pandas\n",
    "import planet\n",
    "import pyproj\n",
    "import pytest\n",
    "import rasterio\n",
    "import requests\n",
    "import scipy\n",
    "import shapely\n",
    "import six # python2/3 compatibility\n",
    "import skimage\n",
    "import sklearn\n",
    "import tqdm"
   ]
  },
  {
   "cell_type": "code",
   "execution_count": null,
   "metadata": {},
   "outputs": [],
   "source": []
  }
 ],
 "metadata": {
  "kernelspec": {
   "display_name": "Python 3 (ipykernel)",
   "language": "python",
   "name": "python3"
  },
  "language_info": {
   "codemirror_mode": {
    "name": "ipython",
    "version": 3
   },
   "file_extension": ".py",
   "mimetype": "text/x-python",
   "name": "python",
   "nbconvert_exporter": "python",
   "pygments_lexer": "ipython3",
   "version": "3.9.12"
  }
 },
 "nbformat": 4,
 "nbformat_minor": 4
}
